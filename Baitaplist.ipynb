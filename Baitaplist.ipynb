{
  "nbformat": 4,
  "nbformat_minor": 0,
  "metadata": {
    "colab": {
      "name": "Baitaplist.ipynb",
      "provenance": [],
      "authorship_tag": "ABX9TyNrx7UUEs7Vyxj3ATA2jwyL",
      "include_colab_link": true
    },
    "kernelspec": {
      "display_name": "Python 3",
      "name": "python3"
    },
    "language_info": {
      "name": "python"
    }
  },
  "cells": [
    {
      "cell_type": "markdown",
      "metadata": {
        "id": "view-in-github",
        "colab_type": "text"
      },
      "source": [
        "<a href=\"https://colab.research.google.com/github/Ldkhanhduy/baitaplist/blob/main/Baitaplist.ipynb\" target=\"_parent\"><img src=\"https://colab.research.google.com/assets/colab-badge.svg\" alt=\"Open In Colab\"/></a>"
      ]
    },
    {
      "cell_type": "code",
      "metadata": {
        "colab": {
          "base_uri": "https://localhost:8080/"
        },
        "id": "x-NzYm3ANU92",
        "outputId": "7e8374d6-c59c-4883-ce4c-a296f7e59138"
      },
      "source": [
        "\n",
        "x=[]\n",
        "x.insert(0, 18)\n",
        "x.append(\"Hue\")\n",
        "print(\"x=\", x)"
      ],
      "execution_count": null,
      "outputs": [
        {
          "output_type": "stream",
          "name": "stdout",
          "text": [
            "x= [18, 'Hue']\n"
          ]
        }
      ]
    },
    {
      "cell_type": "code",
      "metadata": {
        "colab": {
          "base_uri": "https://localhost:8080/"
        },
        "id": "8jJKx2JSO7-D",
        "outputId": "fb100058-26b6-4313-c011-b997937cde74"
      },
      "source": [
        "y=list((12, 45, -1, -0.56, \"abc\"))\n",
        "x.extend(y)\n",
        "print(\"x=\", x)"
      ],
      "execution_count": null,
      "outputs": [
        {
          "output_type": "stream",
          "name": "stdout",
          "text": [
            "x= [18, 'Hue', 12, 45, -1, -0.56, 'abc']\n"
          ]
        }
      ]
    },
    {
      "cell_type": "code",
      "metadata": {
        "colab": {
          "base_uri": "https://localhost:8080/"
        },
        "id": "B03UUqsgPyOt",
        "outputId": "3309d6c3-1def-4954-c396-5e075f5e8030"
      },
      "source": [
        "print(\"gia tri dau tien cua x:\", x[0])\n",
        "print(\"gia tri cuoi cung cua x:\", x[6])"
      ],
      "execution_count": null,
      "outputs": [
        {
          "output_type": "stream",
          "name": "stdout",
          "text": [
            "gia tri dau tien cua x: 18\n",
            "gia tri cuoi cung cua x: abc\n"
          ]
        }
      ]
    },
    {
      "cell_type": "code",
      "metadata": {
        "colab": {
          "base_uri": "https://localhost:8080/"
        },
        "id": "H_pwmuehRCZr",
        "outputId": "2140389a-75c9-4f58-8622-daa472301acc"
      },
      "source": [
        "print(\"gia tri dau den gia tri thu 5 cua x:\", x[:5])"
      ],
      "execution_count": null,
      "outputs": [
        {
          "output_type": "stream",
          "name": "stdout",
          "text": [
            "gia tri dau den gia tri thu 5 cua x: [18, 'Hue', 12, 45, -1]\n"
          ]
        }
      ]
    },
    {
      "cell_type": "code",
      "metadata": {
        "colab": {
          "base_uri": "https://localhost:8080/"
        },
        "id": "NwJtmdInT5EZ",
        "outputId": "0ea39342-7d3c-4ea7-8070-f35482834bb3"
      },
      "source": [
        "print(\"gia tri thu 3 den gia tri cuoi cung cua x:\", x[2:])"
      ],
      "execution_count": null,
      "outputs": [
        {
          "output_type": "stream",
          "name": "stdout",
          "text": [
            "gia tri thu 3 den gia tri cuoi cung cua x: [12, 45, -1, -0.56, 'abc']\n"
          ]
        }
      ]
    }
  ]
}